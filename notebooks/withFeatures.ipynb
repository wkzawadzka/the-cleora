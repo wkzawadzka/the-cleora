{
 "cells": [
  {
   "cell_type": "code",
   "execution_count": null,
   "metadata": {},
   "outputs": [
    {
     "name": "stdout",
     "output_type": "stream",
     "text": [
      "c:\\Users\\weraz\\Documents\\sem7\\the-cleora\\notebooks\n"
     ]
    }
   ],
   "source": [
    "from dotenv import load_dotenv\n",
    "load_dotenv()\n"
   ]
  },
  {
   "cell_type": "code",
   "execution_count": 8,
   "metadata": {},
   "outputs": [
    {
     "ename": "ModuleNotFoundError",
     "evalue": "No module named 'src'",
     "output_type": "error",
     "traceback": [
      "\u001b[1;31m---------------------------------------------------------------------------\u001b[0m",
      "\u001b[1;31mModuleNotFoundError\u001b[0m                       Traceback (most recent call last)",
      "Cell \u001b[1;32mIn[8], line 1\u001b[0m\n\u001b[1;32m----> 1\u001b[0m \u001b[38;5;28;01mfrom\u001b[39;00m \u001b[38;5;21;01msrc\u001b[39;00m\u001b[38;5;21;01m.\u001b[39;00m\u001b[38;5;21;01mutils\u001b[39;00m\u001b[38;5;21;01m.\u001b[39;00m\u001b[38;5;21;01mdata\u001b[39;00m \u001b[38;5;28;01mimport\u001b[39;00m load_data\n\u001b[0;32m      2\u001b[0m \u001b[38;5;28;01mfrom\u001b[39;00m \u001b[38;5;21;01msrc\u001b[39;00m\u001b[38;5;21;01m.\u001b[39;00m\u001b[38;5;21;01mpipeline\u001b[39;00m \u001b[38;5;28;01mimport\u001b[39;00m create_pipeline\n\u001b[0;32m      3\u001b[0m \u001b[38;5;28;01mfrom\u001b[39;00m \u001b[38;5;21;01msrc\u001b[39;00m\u001b[38;5;21;01m.\u001b[39;00m\u001b[38;5;21;01mPreprocessing\u001b[39;00m \u001b[38;5;28;01mimport\u001b[39;00m Preprocessing\n",
      "\u001b[1;31mModuleNotFoundError\u001b[0m: No module named 'src'"
     ]
    }
   ],
   "source": [
    "from src.utils.data import load_data\n",
    "from src.pipeline import create_pipeline\n",
    "from src.Preprocessing import Preprocessing\n",
    "from src.CleoraFacade import CleoraFacade\n",
    "from sklearn.neighbors import KNeighborsClassifier\n",
    "from sklearn.tree import DecisionTreeClassifier\n",
    "from sklearn.metrics import classification_report\n",
    "from pathlib import Path"
   ]
  },
  {
   "cell_type": "code",
   "execution_count": 24,
   "metadata": {},
   "outputs": [
    {
     "name": "stdout",
     "output_type": "stream",
     "text": [
      "          id     0     1     2     3     4     5     6     7     8  ...  32  \\\n",
      "0          0  1574  3773  3571  2672  2478  2534  3129  3077  1171  ...   0   \n",
      "1          1  1193   376    73   290  3129  1852  3077  1171  1022  ...   0   \n",
      "2          2  1574  3773   925  1728  2815  2963  3077   364  1171  ...   0   \n",
      "3          3  3964  3773  4003   928  1852  3077   364  1022  3763  ...   0   \n",
      "4          4  1929  3773  1793  3511  1290  3129  3077   364  1171  ...   0   \n",
      "...      ...   ...   ...   ...   ...   ...   ...   ...   ...   ...  ...  ..   \n",
      "37695  37695  1574  3773    73  1995  3554  1233  1789   345  3129  ...   0   \n",
      "37696  37696  1929  3773  1663  1404   508   819  1852  3077   364  ...   0   \n",
      "37697  37697  3433  3773  3104  1245  3129  1852  3077   364  1171  ...   0   \n",
      "37698  37698  3730  3773  1695  2092  2954  1852  3077   364  1171  ...   0   \n",
      "37699  37699  3433   509  1663  3437   676  3129  1852  3077  3763  ...   0   \n",
      "\n",
      "       33  34  35  36  37  38  39  40  41  \n",
      "0       0   0   0   0   0   0   0   0   0  \n",
      "1       0   0   0   0   0   0   0   0   0  \n",
      "2       0   0   0   0   0   0   0   0   0  \n",
      "3       0   0   0   0   0   0   0   0   0  \n",
      "4       0   0   0   0   0   0   0   0   0  \n",
      "...    ..  ..  ..  ..  ..  ..  ..  ..  ..  \n",
      "37695   0   0   0   0   0   0   0   0   0  \n",
      "37696   0   0   0   0   0   0   0   0   0  \n",
      "37697   0   0   0   0   0   0   0   0   0  \n",
      "37698   0   0   0   0   0   0   0   0   0  \n",
      "37699   0   0   0   0   0   0   0   0   0  \n",
      "\n",
      "[37700 rows x 43 columns]\n"
     ]
    }
   ],
   "source": [
    "import pandas as pd\n",
    "headers = ['id']\n",
    "for i in range(42):\n",
    "    headers.append(i)\n",
    "df = pd.read_csv(\"data/features.csv\", names=headers, header=0)\n",
    "print(df)"
   ]
  },
  {
   "cell_type": "code",
   "execution_count": 33,
   "metadata": {},
   "outputs": [],
   "source": [
    "preprocessing = Preprocessing()\n",
    "preprocessing.make_preprocessed_edges_file()\n",
    "cleora = CleoraFacade(iterations=5)\n",
    "cleora.run_cleora(Path.cwd() / \"data\" / \"preprocessed_edges.txt\")"
   ]
  },
  {
   "cell_type": "code",
   "execution_count": 35,
   "metadata": {},
   "outputs": [
    {
     "name": "stdout",
     "output_type": "stream",
     "text": [
      "          id       name  ml_target\n",
      "4773    4773      Nsima          0\n",
      "36287  36287  jaycech3n          0\n",
      "24241  24241  davendw49          1\n",
      "27463  27463   mccordgh          0\n",
      "6815    6815    oalders          0\n"
     ]
    }
   ],
   "source": [
    "train = preprocessing.train\n",
    "test = preprocessing.test\n",
    "print(train.head())"
   ]
  },
  {
   "cell_type": "code",
   "execution_count": 36,
   "metadata": {},
   "outputs": [],
   "source": [
    "embeddings_path = Path.cwd() / \"data\" / \"embeddings\" / \"emb__cluster_id__node.out\"\n",
    "embeddings, dimension = cleora.load_embeddings(embeddings_path)"
   ]
  },
  {
   "cell_type": "code",
   "execution_count": 37,
   "metadata": {},
   "outputs": [
    {
     "name": "stdout",
     "output_type": "stream",
     "text": [
      "      id       name  ml_target  \\\n",
      "0   4773      Nsima          0   \n",
      "1  36287  jaycech3n          0   \n",
      "2  24241  davendw49          1   \n",
      "3  27463   mccordgh          0   \n",
      "4   6815    oalders          0   \n",
      "\n",
      "                                           embedding  \n",
      "0  [0.026979137, -0.06968384, 0.08356073, 0.02421...  \n",
      "1  [-0.029177433, -0.06258977, -0.035947073, -0.0...  \n",
      "2  [0.08326291, -0.011103394, -0.06109125, 0.0916...  \n",
      "3  [-0.049261425, -0.05946914, 0.033284802, -0.04...  \n",
      "4  [-0.021889813, -0.1070307, 0.01412795, -0.0497...  \n"
     ]
    }
   ],
   "source": [
    "train = train.merge(embeddings, left_on='id', right_on='node', how='left').drop(columns=['node'])\n",
    "test = test.merge(embeddings, left_on='id', right_on='node', how='left').drop(columns=['node'])\n",
    "print(train.head())"
   ]
  },
  {
   "cell_type": "code",
   "execution_count": 39,
   "metadata": {},
   "outputs": [
    {
     "name": "stdout",
     "output_type": "stream",
     "text": [
      "      id       name  ml_target  \\\n",
      "0   4773      Nsima          0   \n",
      "1  36287  jaycech3n          0   \n",
      "2  24241  davendw49          1   \n",
      "3  27463   mccordgh          0   \n",
      "4   6815    oalders          0   \n",
      "\n",
      "                                           embedding     0     1     2     3  \\\n",
      "0  [0.026979137, -0.06968384, 0.08356073, 0.02421...  3730  1330   277  1542   \n",
      "1  [-0.029177433, -0.06258977, -0.035947073, -0.0...  1929  1330  1793   101   \n",
      "2  [0.08326291, -0.011103394, -0.06109125, 0.0916...  3730  1033  1793  2771   \n",
      "3  [-0.049261425, -0.05946914, 0.033284802, -0.04...  3730   509  3571  1559   \n",
      "4  [-0.021889813, -0.1070307, 0.01412795, -0.0497...  2048  2325  3214  3129   \n",
      "\n",
      "      4     5     6     7     8  \n",
      "0  3129  3077   364  1022  3763  \n",
      "1  2548  1290  3077   364  1171  \n",
      "2  2947  3129  3077  1171  1022  \n",
      "3  3596  3129   364  1022  3763  \n",
      "4  1852  3077   364  1171  1022  \n"
     ]
    }
   ],
   "source": [
    "train = train.merge(df.iloc[:,0:10], on='id')\n",
    "test = test.merge(df.iloc[:,0:10], on='id')\n",
    "print(train.head())"
   ]
  },
  {
   "cell_type": "code",
   "execution_count": 40,
   "metadata": {},
   "outputs": [
    {
     "data": {
      "text/html": [
       "<div>\n",
       "<style scoped>\n",
       "    .dataframe tbody tr th:only-of-type {\n",
       "        vertical-align: middle;\n",
       "    }\n",
       "\n",
       "    .dataframe tbody tr th {\n",
       "        vertical-align: top;\n",
       "    }\n",
       "\n",
       "    .dataframe thead th {\n",
       "        text-align: right;\n",
       "    }\n",
       "</style>\n",
       "<table border=\"1\" class=\"dataframe\">\n",
       "  <thead>\n",
       "    <tr style=\"text-align: right;\">\n",
       "      <th></th>\n",
       "      <th>embedding</th>\n",
       "      <th>0</th>\n",
       "      <th>1</th>\n",
       "      <th>2</th>\n",
       "      <th>3</th>\n",
       "      <th>4</th>\n",
       "      <th>5</th>\n",
       "      <th>6</th>\n",
       "      <th>7</th>\n",
       "      <th>8</th>\n",
       "    </tr>\n",
       "  </thead>\n",
       "  <tbody>\n",
       "    <tr>\n",
       "      <th>0</th>\n",
       "      <td>[0.026979137, -0.06968384, 0.08356073, 0.02421...</td>\n",
       "      <td>3730</td>\n",
       "      <td>1330</td>\n",
       "      <td>277</td>\n",
       "      <td>1542</td>\n",
       "      <td>3129</td>\n",
       "      <td>3077</td>\n",
       "      <td>364</td>\n",
       "      <td>1022</td>\n",
       "      <td>3763</td>\n",
       "    </tr>\n",
       "    <tr>\n",
       "      <th>1</th>\n",
       "      <td>[-0.029177433, -0.06258977, -0.035947073, -0.0...</td>\n",
       "      <td>1929</td>\n",
       "      <td>1330</td>\n",
       "      <td>1793</td>\n",
       "      <td>101</td>\n",
       "      <td>2548</td>\n",
       "      <td>1290</td>\n",
       "      <td>3077</td>\n",
       "      <td>364</td>\n",
       "      <td>1171</td>\n",
       "    </tr>\n",
       "    <tr>\n",
       "      <th>2</th>\n",
       "      <td>[0.08326291, -0.011103394, -0.06109125, 0.0916...</td>\n",
       "      <td>3730</td>\n",
       "      <td>1033</td>\n",
       "      <td>1793</td>\n",
       "      <td>2771</td>\n",
       "      <td>2947</td>\n",
       "      <td>3129</td>\n",
       "      <td>3077</td>\n",
       "      <td>1171</td>\n",
       "      <td>1022</td>\n",
       "    </tr>\n",
       "    <tr>\n",
       "      <th>3</th>\n",
       "      <td>[-0.049261425, -0.05946914, 0.033284802, -0.04...</td>\n",
       "      <td>3730</td>\n",
       "      <td>509</td>\n",
       "      <td>3571</td>\n",
       "      <td>1559</td>\n",
       "      <td>3596</td>\n",
       "      <td>3129</td>\n",
       "      <td>364</td>\n",
       "      <td>1022</td>\n",
       "      <td>3763</td>\n",
       "    </tr>\n",
       "    <tr>\n",
       "      <th>4</th>\n",
       "      <td>[-0.021889813, -0.1070307, 0.01412795, -0.0497...</td>\n",
       "      <td>2048</td>\n",
       "      <td>2325</td>\n",
       "      <td>3214</td>\n",
       "      <td>3129</td>\n",
       "      <td>1852</td>\n",
       "      <td>3077</td>\n",
       "      <td>364</td>\n",
       "      <td>1171</td>\n",
       "      <td>1022</td>\n",
       "    </tr>\n",
       "  </tbody>\n",
       "</table>\n",
       "</div>"
      ],
      "text/plain": [
       "                                           embedding     0     1     2     3  \\\n",
       "0  [0.026979137, -0.06968384, 0.08356073, 0.02421...  3730  1330   277  1542   \n",
       "1  [-0.029177433, -0.06258977, -0.035947073, -0.0...  1929  1330  1793   101   \n",
       "2  [0.08326291, -0.011103394, -0.06109125, 0.0916...  3730  1033  1793  2771   \n",
       "3  [-0.049261425, -0.05946914, 0.033284802, -0.04...  3730   509  3571  1559   \n",
       "4  [-0.021889813, -0.1070307, 0.01412795, -0.0497...  2048  2325  3214  3129   \n",
       "\n",
       "      4     5     6     7     8  \n",
       "0  3129  3077   364  1022  3763  \n",
       "1  2548  1290  3077   364  1171  \n",
       "2  2947  3129  3077  1171  1022  \n",
       "3  3596  3129   364  1022  3763  \n",
       "4  1852  3077   364  1171  1022  "
      ]
     },
     "execution_count": 40,
     "metadata": {},
     "output_type": "execute_result"
    }
   ],
   "source": [
    "X_test = test.drop(columns=[\"id\", \"name\", \"ml_target\"])\n",
    "X_train = train.drop(columns=[\"id\", \"name\", \"ml_target\"])\n",
    "y_train = train['ml_target']\n",
    "y_test = test['ml_target']\n",
    "X_train.head()"
   ]
  },
  {
   "cell_type": "code",
   "execution_count": 41,
   "metadata": {},
   "outputs": [
    {
     "name": "stdout",
     "output_type": "stream",
     "text": [
      "[-0.07880121, -0.08921524, -0.09372365, -0.11417484, 0.03372334, 0.044510406, -0.009739061, 0.015329454, 0.014584135, -0.0413674, -0.07673359, 0.16213013, 0.030030074, 0.098777734, 0.14929837, 0.07676522, 0.13830703, -0.045389593, -0.03793476, 0.27602834, -0.010514128, -0.069654055, -0.06446309, -0.066418566, 0.008946054, 0.09072224, -0.0060333973, 0.02252851, 0.04819063, -0.015175823, -0.037488803, 0.011543756, 0.051636368, 0.053291466, -0.15434681, -0.008824627, 0.0806972, -0.12225716, -0.042166088, -0.04048852, -0.015553097, -0.071669064, -0.050960477, 0.021979755, -0.044208672, -0.018501569, -0.10709141, 0.08408238, -0.044861022, 0.038537905, -0.04692758, -0.0039482242, -0.09939028, -0.09972539, 0.04268243, -0.09526344, -0.057105023, -0.035252757, -0.04012046, 0.004512539, 0.050589792, -0.0060870443, -0.03862141, -0.013215922, -0.092177525, 0.2018826, -0.15300916, -0.034758747, 0.08133207, -0.039115965, 0.055834997, 0.012077628, 0.01739094, -0.019238692, -0.13479745, 0.061656564, 0.11319462, 0.2022122, -0.10341364, -0.05130487, -0.0048782527, -0.04994739, 0.110045254, -0.0118135465, 0.110695384, 0.19980936, 0.103198, 0.100723416, 0.011110195, -0.0013802613, 0.0061810575, 0.1554131, -0.052281924, 0.01074577, 0.00028493645, -0.12710477, -0.0843762, -0.018408064, 0.015703656, -0.032950792, 0.044427786, -0.05198415, 0.03258951, 0.017768089, -0.029349884, 0.067539155, 0.3185215, 0.06797073, -0.038325045, -0.20876573, 0.019878114, -0.004812988, 0.11857308, -0.1198815, -0.08501917, -0.06510096, 0.05364849, 0.11731272, -0.03665449, -0.11898236, 0.11284597, -0.07852658, 0.14201833, 0.15058917, -0.0950564, 0.08212582, 0.047316294, 0.04778619, 1193, 3977, 1793, 2947, 3129, 3077, 364, 1171, 2045]\n",
      "[0.026979137, -0.06968384, 0.08356073, 0.024214841, 0.008580764, 0.030993944, 0.13680728, 0.096604936, -0.003965227, 0.10572465, -0.08850279, 0.065611236, 0.066688426, -0.068044364, -0.037630524, 0.060211696, 0.024404343, -0.13985308, 0.053771794, 0.106880695, -0.13920553, 0.050497822, 0.16393776, -0.083303414, -0.07649771, 0.100920655, -0.0145784905, -0.09485953, -0.039613243, 0.000244311, 0.117502786, 0.087249175, 0.023917047, 0.10062661, -0.043438055, -0.07317761, 0.07390904, -0.053331796, -0.05860786, 0.08377892, 0.08476508, 0.011995129, 0.059895106, -0.021222703, 0.018614631, -0.019254712, -0.056142516, 0.17748772, -0.052996766, -0.0069831302, 0.0008193607, -0.08738031, -0.024138682, 0.095720254, 0.043150593, -0.026959071, -0.031249085, 0.04258924, -0.035165682, 0.06010332, -0.14831983, -0.074531816, -0.06572261, -0.019637963, -0.111130975, 0.063960776, -0.21621034, -0.009973396, -0.06942063, -0.010541249, -0.015507545, 0.020912604, 0.0006766468, -0.19461028, -0.2327108, 0.075279295, 0.08350244, 0.13686521, -0.1458519, 0.026876768, 0.078641005, 0.022037907, 0.029391944, 0.09040548, 0.13527265, 0.17618564, 0.06508181, 0.0033247517, -0.07265901, -0.069818445, -0.017332485, -0.05662025, -0.0065209726, 0.08631583, -0.040867347, 0.018293865, 0.06575739, -0.12546429, -0.15421247, 0.046016194, 0.017264355, 0.107850395, 0.09442735, -0.095887184, -0.057538435, -0.026801104, 0.14886472, -0.13365912, -0.0010820441, 0.072141424, -0.099145174, 0.13904981, 0.16314664, 0.06246979, -0.2050691, -0.0753557, -0.095641956, 0.096486405, 0.12298303, 0.056891978, 0.0025477712, -0.13831782, 0.12061314, 0.026871387, -0.12635002, -0.056183375, -0.05038586, 0.05825006, 3730, 1330, 277, 1542, 3129, 3077, 364, 1022, 3763]\n"
     ]
    }
   ],
   "source": [
    "X_test = []\n",
    "for i in test.values:\n",
    "    l = i[3].tolist()\n",
    "    for x in range(4, len(i)):\n",
    "        l.append(i[x])\n",
    "    X_test.append(l)\n",
    "print(X_test[0])\n",
    "\n",
    "X_train = []\n",
    "for i in train.values:\n",
    "    l = i[3].tolist()\n",
    "    for x in range(4, len(i)):\n",
    "        l.append(i[x])\n",
    "    X_train.append(l)\n",
    "print(X_train[0])"
   ]
  },
  {
   "cell_type": "code",
   "execution_count": 42,
   "metadata": {},
   "outputs": [],
   "source": [
    "from sklearn.preprocessing import StandardScaler\n",
    "scaler = StandardScaler()\n",
    "X_train_scaled = scaler.fit_transform(X_train)\n",
    "X_test_scaled = scaler.fit_transform(X_test)\n"
   ]
  },
  {
   "cell_type": "code",
   "execution_count": 23,
   "metadata": {},
   "outputs": [
    {
     "name": "stdout",
     "output_type": "stream",
     "text": [
      "\n",
      "Training pipeline with KNeighbors...\n",
      "[Pipeline] . (step 1 of 2) Processing cosine_similarity, total=  31.2s\n",
      "[Pipeline] ............... (step 2 of 2) Processing knn, total=   9.0s\n"
     ]
    },
    {
     "name": "stderr",
     "output_type": "stream",
     "text": [
      "c:\\Python312\\Lib\\site-packages\\joblib\\externals\\loky\\backend\\context.py:136: UserWarning: Could not find the number of physical cores for the following reason:\n",
      "found 0 physical cores < 1\n",
      "Returning the number of logical cores instead. You can silence this warning by setting LOKY_MAX_CPU_COUNT to the number of cores you want to use.\n",
      "  warnings.warn(\n",
      "  File \"c:\\Python312\\Lib\\site-packages\\joblib\\externals\\loky\\backend\\context.py\", line 282, in _count_physical_cores\n",
      "    raise ValueError(f\"found {cpu_count_physical} physical cores < 1\")\n"
     ]
    },
    {
     "name": "stdout",
     "output_type": "stream",
     "text": [
      "\n",
      "KNeighbors Model Evaluation:\n",
      "Accuracy: 0.7788\n",
      "              precision    recall  f1-score   support\n",
      "\n",
      "           0       0.81      0.92      0.86      5620\n",
      "           1       0.61      0.36      0.45      1920\n",
      "\n",
      "    accuracy                           0.78      7540\n",
      "   macro avg       0.71      0.64      0.66      7540\n",
      "weighted avg       0.76      0.78      0.76      7540\n",
      "\n",
      "\n",
      "Training pipeline with DecisionTree...\n",
      "[Pipeline] ........ (step 1 of 1) Processing classifier, total=  10.4s\n",
      "\n",
      "DecisionTree Model Evaluation:\n",
      "Accuracy: 0.7460\n",
      "              precision    recall  f1-score   support\n",
      "\n",
      "           0       0.84      0.81      0.83      5620\n",
      "           1       0.50      0.54      0.52      1920\n",
      "\n",
      "    accuracy                           0.75      7540\n",
      "   macro avg       0.67      0.68      0.67      7540\n",
      "weighted avg       0.75      0.75      0.75      7540\n",
      "\n"
     ]
    }
   ],
   "source": [
    "models = {\n",
    "    \"KNeighbors\": KNeighborsClassifier(n_neighbors=7), \n",
    "    \"DecisionTree\": DecisionTreeClassifier() \n",
    "}\n",
    "\n",
    "for model_name, model in models.items():\n",
    "        print(f\"\\nTraining pipeline with {model_name}...\")\n",
    "        pipeline = create_pipeline(model)\n",
    "        \n",
    "        pipeline.fit(X_train_scaled, y_train)\n",
    "        y_pred = pipeline.predict(X_test_scaled)\n",
    "        \n",
    "        # evaluate model performance\n",
    "        print(f\"\\n{model_name} Model Evaluation:\")\n",
    "        print(f\"Accuracy: {pipeline.score(X_test_scaled, y_test):.4f}\")\n",
    "        print(classification_report(y_test, y_pred))"
   ]
  },
  {
   "cell_type": "code",
   "execution_count": null,
   "metadata": {},
   "outputs": [
    {
     "name": "stdout",
     "output_type": "stream",
     "text": [
      "\n",
      "Training pipeline with KNeighbors...\n",
      "[Pipeline] . (step 1 of 2) Processing cosine_similarity, total=  14.3s\n",
      "[Pipeline] ............... (step 2 of 2) Processing knn, total=   7.7s\n",
      "\n",
      "KNeighbors Model Evaluation:\n"
     ]
    }
   ],
   "source": [
    "models = {\n",
    "    \"KNeighbors\": KNeighborsClassifier(n_neighbors=7), \n",
    "    \"DecisionTree\": DecisionTreeClassifier() \n",
    "}\n",
    "\n",
    "for model_name, model in models.items():\n",
    "        print(f\"\\nTraining pipeline with {model_name}...\")\n",
    "        pipeline = create_pipeline(model)\n",
    "        \n",
    "        pipeline.fit(X_train_scaled, y_train)\n",
    "        y_pred = pipeline.predict(X_test_scaled)\n",
    "        \n",
    "        # evaluate model performance\n",
    "        print(f\"\\n{model_name} Model Evaluation:\")\n",
    "        print(f\"Accuracy: {pipeline.score(X_test_scaled, y_test):.4f}\")\n",
    "        print(classification_report(y_test, y_pred))"
   ]
  }
 ],
 "metadata": {
  "kernelspec": {
   "display_name": "Python 3",
   "language": "python",
   "name": "python3"
  },
  "language_info": {
   "codemirror_mode": {
    "name": "ipython",
    "version": 3
   },
   "file_extension": ".py",
   "mimetype": "text/x-python",
   "name": "python",
   "nbconvert_exporter": "python",
   "pygments_lexer": "ipython3",
   "version": "3.12.5"
  }
 },
 "nbformat": 4,
 "nbformat_minor": 2
}
