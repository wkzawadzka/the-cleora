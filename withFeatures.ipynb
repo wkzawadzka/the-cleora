{
 "cells": [
  {
   "cell_type": "code",
   "execution_count": 27,
   "metadata": {},
   "outputs": [],
   "source": [
    "from src.data_loader import load_data\n",
    "from src.pipeline import create_pipeline\n",
    "from src.Preprocessing import Preprocessing\n",
    "from src.CleoraFacade import CleoraFacade\n",
    "from sklearn.neighbors import KNeighborsClassifier\n",
    "from sklearn.tree import DecisionTreeClassifier\n",
    "from sklearn.metrics import classification_report\n",
    "from pathlib import Path"
   ]
  },
  {
   "cell_type": "code",
   "execution_count": 42,
   "metadata": {},
   "outputs": [
    {
     "name": "stdout",
     "output_type": "stream",
     "text": [
      "          id     0     1     2     3     4     5     6     7     8  ...  32  \\\n",
      "0          0  1574  3773  3571  2672  2478  2534  3129  3077  1171  ...   0   \n",
      "1          1  1193   376    73   290  3129  1852  3077  1171  1022  ...   0   \n",
      "2          2  1574  3773   925  1728  2815  2963  3077   364  1171  ...   0   \n",
      "3          3  3964  3773  4003   928  1852  3077   364  1022  3763  ...   0   \n",
      "4          4  1929  3773  1793  3511  1290  3129  3077   364  1171  ...   0   \n",
      "...      ...   ...   ...   ...   ...   ...   ...   ...   ...   ...  ...  ..   \n",
      "37695  37695  1574  3773    73  1995  3554  1233  1789   345  3129  ...   0   \n",
      "37696  37696  1929  3773  1663  1404   508   819  1852  3077   364  ...   0   \n",
      "37697  37697  3433  3773  3104  1245  3129  1852  3077   364  1171  ...   0   \n",
      "37698  37698  3730  3773  1695  2092  2954  1852  3077   364  1171  ...   0   \n",
      "37699  37699  3433   509  1663  3437   676  3129  1852  3077  3763  ...   0   \n",
      "\n",
      "       33  34  35  36  37  38  39  40  41  \n",
      "0       0   0   0   0   0   0   0   0   0  \n",
      "1       0   0   0   0   0   0   0   0   0  \n",
      "2       0   0   0   0   0   0   0   0   0  \n",
      "3       0   0   0   0   0   0   0   0   0  \n",
      "4       0   0   0   0   0   0   0   0   0  \n",
      "...    ..  ..  ..  ..  ..  ..  ..  ..  ..  \n",
      "37695   0   0   0   0   0   0   0   0   0  \n",
      "37696   0   0   0   0   0   0   0   0   0  \n",
      "37697   0   0   0   0   0   0   0   0   0  \n",
      "37698   0   0   0   0   0   0   0   0   0  \n",
      "37699   0   0   0   0   0   0   0   0   0  \n",
      "\n",
      "[37700 rows x 43 columns]\n"
     ]
    }
   ],
   "source": [
    "import pandas as pd\n",
    "headers = ['id']\n",
    "for i in range(42):\n",
    "    headers.append(i)\n",
    "df = pd.read_csv(\"data/features.csv\", names=headers, header=0)\n",
    "print(df)"
   ]
  },
  {
   "cell_type": "code",
   "execution_count": 29,
   "metadata": {},
   "outputs": [
    {
     "name": "stdout",
     "output_type": "stream",
     "text": [
      "(30160, 3)\n",
      "          id       name  ml_target\n",
      "4773    4773      Nsima          0\n",
      "36287  36287  jaycech3n          0\n",
      "24241  24241  davendw49          1\n",
      "27463  27463   mccordgh          0\n",
      "6815    6815    oalders          0\n"
     ]
    }
   ],
   "source": [
    "preprocessing = Preprocessing()\n",
    "preprocessing.make_preprocessed_edges_file()\n",
    "cleora = CleoraFacade()\n",
    "cleora.run_cleora(Path.cwd() / \"data\" / \"preprocessed_edges.txt\")"
   ]
  },
  {
   "cell_type": "code",
   "execution_count": 48,
   "metadata": {},
   "outputs": [
    {
     "name": "stdout",
     "output_type": "stream",
     "text": [
      "          id       name  ml_target\n",
      "4773    4773      Nsima          0\n",
      "36287  36287  jaycech3n          0\n",
      "24241  24241  davendw49          1\n",
      "27463  27463   mccordgh          0\n",
      "6815    6815    oalders          0\n"
     ]
    }
   ],
   "source": [
    "train = preprocessing.train\n",
    "test = preprocessing.test\n",
    "print(train.head())"
   ]
  },
  {
   "cell_type": "code",
   "execution_count": 49,
   "metadata": {},
   "outputs": [],
   "source": [
    "embeddings_path = Path.cwd() / \"data\" / \"embeddings\" / \"emb__cluster_id__node.out\"\n",
    "embeddings, dimension = cleora.load_embeddings(embeddings_path)"
   ]
  },
  {
   "cell_type": "code",
   "execution_count": 50,
   "metadata": {},
   "outputs": [
    {
     "name": "stdout",
     "output_type": "stream",
     "text": [
      "      id       name  ml_target  \\\n",
      "0   4773      Nsima          0   \n",
      "1  36287  jaycech3n          0   \n",
      "2  24241  davendw49          1   \n",
      "3  27463   mccordgh          0   \n",
      "4   6815    oalders          0   \n",
      "\n",
      "                                           embedding  \n",
      "0  [-0.05318168, -0.05147112, -0.04538219, -0.007...  \n",
      "1  [0.04182476, 0.016493518, -0.08613632, -0.0226...  \n",
      "2  [8.01578e-05, -0.009422336, -0.09046693, 0.080...  \n",
      "3  [-0.01578629, -0.0067136083, 0.057113085, -0.0...  \n",
      "4  [0.06407978, -0.07241562, 0.11838246, 0.111570...  \n"
     ]
    }
   ],
   "source": [
    "train = train.merge(embeddings, left_on='id', right_on='node', how='left').drop(columns=['node'])\n",
    "test = test.merge(embeddings, left_on='id', right_on='node', how='left').drop(columns=['node'])\n",
    "print(train.head())"
   ]
  },
  {
   "cell_type": "code",
   "execution_count": 51,
   "metadata": {},
   "outputs": [
    {
     "name": "stdout",
     "output_type": "stream",
     "text": [
      "      id       name  ml_target  \\\n",
      "0   4773      Nsima          0   \n",
      "1  36287  jaycech3n          0   \n",
      "2  24241  davendw49          1   \n",
      "3  27463   mccordgh          0   \n",
      "4   6815    oalders          0   \n",
      "\n",
      "                                           embedding     0     1     2     3  \\\n",
      "0  [-0.05318168, -0.05147112, -0.04538219, -0.007...  3730  1330   277  1542   \n",
      "1  [0.04182476, 0.016493518, -0.08613632, -0.0226...  1929  1330  1793   101   \n",
      "2  [8.01578e-05, -0.009422336, -0.09046693, 0.080...  3730  1033  1793  2771   \n",
      "3  [-0.01578629, -0.0067136083, 0.057113085, -0.0...  3730   509  3571  1559   \n",
      "4  [0.06407978, -0.07241562, 0.11838246, 0.111570...  2048  2325  3214  3129   \n",
      "\n",
      "      4     5  ...  32  33  34  35  36  37  38  39  40  41  \n",
      "0  3129  3077  ...   0   0   0   0   0   0   0   0   0   0  \n",
      "1  2548  1290  ...   0   0   0   0   0   0   0   0   0   0  \n",
      "2  2947  3129  ...   0   0   0   0   0   0   0   0   0   0  \n",
      "3  3596  3129  ...   0   0   0   0   0   0   0   0   0   0  \n",
      "4  1852  3077  ...   0   0   0   0   0   0   0   0   0   0  \n",
      "\n",
      "[5 rows x 46 columns]\n"
     ]
    }
   ],
   "source": [
    "train = train.merge(df, on='id')\n",
    "test = test.merge(df, on='id')\n",
    "print(train.head())"
   ]
  },
  {
   "cell_type": "code",
   "execution_count": 55,
   "metadata": {},
   "outputs": [
    {
     "data": {
      "text/html": [
       "<div>\n",
       "<style scoped>\n",
       "    .dataframe tbody tr th:only-of-type {\n",
       "        vertical-align: middle;\n",
       "    }\n",
       "\n",
       "    .dataframe tbody tr th {\n",
       "        vertical-align: top;\n",
       "    }\n",
       "\n",
       "    .dataframe thead th {\n",
       "        text-align: right;\n",
       "    }\n",
       "</style>\n",
       "<table border=\"1\" class=\"dataframe\">\n",
       "  <thead>\n",
       "    <tr style=\"text-align: right;\">\n",
       "      <th></th>\n",
       "      <th>embedding</th>\n",
       "      <th>0</th>\n",
       "      <th>1</th>\n",
       "      <th>2</th>\n",
       "      <th>3</th>\n",
       "      <th>4</th>\n",
       "      <th>5</th>\n",
       "      <th>6</th>\n",
       "      <th>7</th>\n",
       "      <th>8</th>\n",
       "      <th>...</th>\n",
       "      <th>32</th>\n",
       "      <th>33</th>\n",
       "      <th>34</th>\n",
       "      <th>35</th>\n",
       "      <th>36</th>\n",
       "      <th>37</th>\n",
       "      <th>38</th>\n",
       "      <th>39</th>\n",
       "      <th>40</th>\n",
       "      <th>41</th>\n",
       "    </tr>\n",
       "  </thead>\n",
       "  <tbody>\n",
       "    <tr>\n",
       "      <th>0</th>\n",
       "      <td>[-0.05318168, -0.05147112, -0.04538219, -0.007...</td>\n",
       "      <td>3730</td>\n",
       "      <td>1330</td>\n",
       "      <td>277</td>\n",
       "      <td>1542</td>\n",
       "      <td>3129</td>\n",
       "      <td>3077</td>\n",
       "      <td>364</td>\n",
       "      <td>1022</td>\n",
       "      <td>3763</td>\n",
       "      <td>...</td>\n",
       "      <td>0</td>\n",
       "      <td>0</td>\n",
       "      <td>0</td>\n",
       "      <td>0</td>\n",
       "      <td>0</td>\n",
       "      <td>0</td>\n",
       "      <td>0</td>\n",
       "      <td>0</td>\n",
       "      <td>0</td>\n",
       "      <td>0</td>\n",
       "    </tr>\n",
       "    <tr>\n",
       "      <th>1</th>\n",
       "      <td>[0.04182476, 0.016493518, -0.08613632, -0.0226...</td>\n",
       "      <td>1929</td>\n",
       "      <td>1330</td>\n",
       "      <td>1793</td>\n",
       "      <td>101</td>\n",
       "      <td>2548</td>\n",
       "      <td>1290</td>\n",
       "      <td>3077</td>\n",
       "      <td>364</td>\n",
       "      <td>1171</td>\n",
       "      <td>...</td>\n",
       "      <td>0</td>\n",
       "      <td>0</td>\n",
       "      <td>0</td>\n",
       "      <td>0</td>\n",
       "      <td>0</td>\n",
       "      <td>0</td>\n",
       "      <td>0</td>\n",
       "      <td>0</td>\n",
       "      <td>0</td>\n",
       "      <td>0</td>\n",
       "    </tr>\n",
       "    <tr>\n",
       "      <th>2</th>\n",
       "      <td>[8.01578e-05, -0.009422336, -0.09046693, 0.080...</td>\n",
       "      <td>3730</td>\n",
       "      <td>1033</td>\n",
       "      <td>1793</td>\n",
       "      <td>2771</td>\n",
       "      <td>2947</td>\n",
       "      <td>3129</td>\n",
       "      <td>3077</td>\n",
       "      <td>1171</td>\n",
       "      <td>1022</td>\n",
       "      <td>...</td>\n",
       "      <td>0</td>\n",
       "      <td>0</td>\n",
       "      <td>0</td>\n",
       "      <td>0</td>\n",
       "      <td>0</td>\n",
       "      <td>0</td>\n",
       "      <td>0</td>\n",
       "      <td>0</td>\n",
       "      <td>0</td>\n",
       "      <td>0</td>\n",
       "    </tr>\n",
       "    <tr>\n",
       "      <th>3</th>\n",
       "      <td>[-0.01578629, -0.0067136083, 0.057113085, -0.0...</td>\n",
       "      <td>3730</td>\n",
       "      <td>509</td>\n",
       "      <td>3571</td>\n",
       "      <td>1559</td>\n",
       "      <td>3596</td>\n",
       "      <td>3129</td>\n",
       "      <td>364</td>\n",
       "      <td>1022</td>\n",
       "      <td>3763</td>\n",
       "      <td>...</td>\n",
       "      <td>0</td>\n",
       "      <td>0</td>\n",
       "      <td>0</td>\n",
       "      <td>0</td>\n",
       "      <td>0</td>\n",
       "      <td>0</td>\n",
       "      <td>0</td>\n",
       "      <td>0</td>\n",
       "      <td>0</td>\n",
       "      <td>0</td>\n",
       "    </tr>\n",
       "    <tr>\n",
       "      <th>4</th>\n",
       "      <td>[0.06407978, -0.07241562, 0.11838246, 0.111570...</td>\n",
       "      <td>2048</td>\n",
       "      <td>2325</td>\n",
       "      <td>3214</td>\n",
       "      <td>3129</td>\n",
       "      <td>1852</td>\n",
       "      <td>3077</td>\n",
       "      <td>364</td>\n",
       "      <td>1171</td>\n",
       "      <td>1022</td>\n",
       "      <td>...</td>\n",
       "      <td>0</td>\n",
       "      <td>0</td>\n",
       "      <td>0</td>\n",
       "      <td>0</td>\n",
       "      <td>0</td>\n",
       "      <td>0</td>\n",
       "      <td>0</td>\n",
       "      <td>0</td>\n",
       "      <td>0</td>\n",
       "      <td>0</td>\n",
       "    </tr>\n",
       "  </tbody>\n",
       "</table>\n",
       "<p>5 rows × 43 columns</p>\n",
       "</div>"
      ],
      "text/plain": [
       "                                           embedding     0     1     2     3  \\\n",
       "0  [-0.05318168, -0.05147112, -0.04538219, -0.007...  3730  1330   277  1542   \n",
       "1  [0.04182476, 0.016493518, -0.08613632, -0.0226...  1929  1330  1793   101   \n",
       "2  [8.01578e-05, -0.009422336, -0.09046693, 0.080...  3730  1033  1793  2771   \n",
       "3  [-0.01578629, -0.0067136083, 0.057113085, -0.0...  3730   509  3571  1559   \n",
       "4  [0.06407978, -0.07241562, 0.11838246, 0.111570...  2048  2325  3214  3129   \n",
       "\n",
       "      4     5     6     7     8  ...  32  33  34  35  36  37  38  39  40  41  \n",
       "0  3129  3077   364  1022  3763  ...   0   0   0   0   0   0   0   0   0   0  \n",
       "1  2548  1290  3077   364  1171  ...   0   0   0   0   0   0   0   0   0   0  \n",
       "2  2947  3129  3077  1171  1022  ...   0   0   0   0   0   0   0   0   0   0  \n",
       "3  3596  3129   364  1022  3763  ...   0   0   0   0   0   0   0   0   0   0  \n",
       "4  1852  3077   364  1171  1022  ...   0   0   0   0   0   0   0   0   0   0  \n",
       "\n",
       "[5 rows x 43 columns]"
      ]
     },
     "execution_count": 55,
     "metadata": {},
     "output_type": "execute_result"
    }
   ],
   "source": [
    "X_test = test.drop(columns=[\"id\", \"name\", \"ml_target\"])\n",
    "X_train = train.drop(columns=[\"id\", \"name\", \"ml_target\"])\n",
    "y_train = train['ml_target']\n",
    "y_test = test['ml_target']\n",
    "X_train.head()"
   ]
  },
  {
   "cell_type": "code",
   "execution_count": 74,
   "metadata": {},
   "outputs": [
    {
     "name": "stdout",
     "output_type": "stream",
     "text": [
      "[-0.08606248, -0.09733334, -0.06357559, -0.08451723, 0.04718374, 0.04506947, -0.1413375, -0.06452729, 0.015114757, -0.11094865, 0.15918387, -0.082086734, 0.12615938, 0.16015774, 0.029101333, 0.0001339671, 0.033882875, -0.021637939, -0.075255014, 0.15640664, 0.058416825, -0.063626975, -0.078586504, -0.08335538, 0.11556307, 0.11392255, -0.0838909, -0.06494134, 0.05126182, -0.052901994, -0.112708226, 0.04113988, 0.090040855, 0.0067846114, -0.06494589, 0.20049052, 0.0050847502, -0.022951836, -0.014135835, -0.104296505, 0.072631106, -0.05304778, -0.1847334, -0.02944122, -0.04254049, -0.0081584565, 0.043075453, -0.15172626, -0.01682658, 0.055153426, -0.06772295, -0.078567125, -0.04974827, -0.088238135, 0.03746905, 0.026892772, 0.0111452555, -0.050254263, 0.024482658, -0.10366168, 0.051508453, 0.016157757, 0.05218183, 0.1343271, -0.060469825, 0.043996327, -0.02197111, -0.1339002, -0.010219006, -0.03190067, 0.11626609, 0.0066494597, 0.033399533, 0.10287354, -0.014606367, 0.10214354, 0.12724727, 0.14236411, -0.108971655, -0.13809158, -0.11355508, -0.105960056, 0.10383954, -0.050205372, 0.102058865, 0.07244352, 0.078620695, 0.1558322, -0.10003837, 0.035211757, -0.032002237, 0.14427906, -0.05578268, 0.05249839, 0.12810351, -0.13511932, -0.075869165, -0.1344322, -0.026227346, 0.023722796, -0.017210111, -0.10947803, 0.041031644, 0.029011635, -0.061194893, 0.060603365, 0.13729943, 0.120370865, -0.07087917, -0.2102501, 0.042906404, -0.12659575, 0.14791064, -0.034591243, -0.027108155, 0.1660719, -0.046910908, 0.022754556, 0.030395797, -0.077430725, 0.05301159, 0.1071273, 0.03946079, 0.114184886, 0.008340197, 0.14087866, -0.052543916, -0.051453263, 1193, 3977, 1793, 2947, 3129, 3077, 364, 1171, 2045, 536, 3378, 3435, 2731, 3957, 2472, 231, 731, 2461, 2030, 3692, 0, 0, 0, 0, 0, 0, 0, 0, 0, 0, 0, 0, 0, 0, 0, 0, 0, 0, 0, 0, 0, 0]\n",
      "[-0.05318168, -0.05147112, -0.04538219, -0.0076662167, 0.048758198, -0.024681859, 0.108516514, 0.10876239, 0.038726144, 0.06367802, 0.028763615, 0.10727692, 0.13629375, -0.20304619, -0.06833727, -0.1175863, 0.058076072, -0.032306902, -0.10530712, 0.106681675, -0.032965183, 0.047845237, 0.20941871, -0.00061856024, -0.08914428, -0.109553985, 0.04920713, 0.027421238, -0.07031482, -0.092809014, 0.13285902, 0.15198669, -0.027892848, 0.025386605, -0.050305672, -0.10904413, 0.031365145, -0.06964024, 0.05030595, 0.08793699, 0.02010452, -0.019095913, -0.0010024507, -0.12318233, 0.056237847, 0.12108398, 0.045949496, 0.06699833, -0.051993996, -0.068683274, 0.014301639, -0.13466692, -0.13921696, 0.033714112, -0.031085758, -0.05255883, -0.15045698, 0.068977624, 0.025351346, 0.055409633, -0.11114096, -0.053578198, -0.036454294, -0.00588165, -0.035926823, 0.0474734, -0.08058311, 0.020546159, -0.06580052, 0.06863347, 0.07955654, 0.0734496, 0.0065946714, -0.20754384, -0.19112086, 0.029481558, 0.14049381, 0.1933371, -0.021088343, 0.038929768, 0.1256611, -0.103223294, 0.0035242895, 0.039874263, 0.11357896, 0.0638022, -0.053897787, -0.035227146, -0.066948354, -0.021614427, -0.07472455, 0.012794518, 0.039327033, 0.027761, -0.05907564, -0.030718395, -0.045597017, -0.09935193, -0.034640573, 0.09305478, 0.07671518, -0.033338897, 0.13469675, -0.09696788, -0.048812855, 0.046491265, 0.065661274, -0.1698475, -0.027553571, 0.117254026, -0.12239049, 0.13039258, 0.038370896, 0.13304614, -0.18340257, -0.09789554, -0.12670432, 0.13762437, 0.05060372, -0.049660362, -0.13916506, -0.011547571, 0.032156184, -0.06883856, -0.16718023, 0.10549374, -0.04077541, 0.040710412, 3730, 1330, 277, 1542, 3129, 3077, 364, 1022, 3763, 1985, 1532, 3771, 1348, 1606, 1787, 0, 0, 0, 0, 0, 0, 0, 0, 0, 0, 0, 0, 0, 0, 0, 0, 0, 0, 0, 0, 0, 0, 0, 0, 0, 0, 0]\n"
     ]
    }
   ],
   "source": [
    "X_test = []\n",
    "for i in test.values:\n",
    "    l = i[3].tolist()\n",
    "    for x in range(4, len(i)):\n",
    "        l.append(i[x])\n",
    "    X_test.append(l)\n",
    "print(X_test[0])\n",
    "\n",
    "X_train = []\n",
    "for i in train.values:\n",
    "    l = i[3].tolist()\n",
    "    for x in range(4, len(i)):\n",
    "        l.append(i[x])\n",
    "    X_train.append(l)\n",
    "print(X_train[0])"
   ]
  },
  {
   "cell_type": "code",
   "execution_count": 75,
   "metadata": {},
   "outputs": [],
   "source": [
    "from sklearn.preprocessing import StandardScaler\n",
    "scaler = StandardScaler()\n",
    "X_train_scaled = scaler.fit_transform(X_train)\n",
    "X_test_scaled = scaler.fit_transform(X_test)\n"
   ]
  },
  {
   "cell_type": "code",
   "execution_count": 77,
   "metadata": {},
   "outputs": [
    {
     "name": "stdout",
     "output_type": "stream",
     "text": [
      "\n",
      "Training pipeline with KNeighbors...\n",
      "[Pipeline] . (step 1 of 2) Processing cosine_similarity, total= 1.5min\n",
      "[Pipeline] ............... (step 2 of 2) Processing knn, total=   1.6s\n",
      "\n",
      "KNeighbors Model Evaluation:\n",
      "Accuracy: 0.7564\n",
      "              precision    recall  f1-score   support\n",
      "\n",
      "           0       0.77      0.97      0.86      5620\n",
      "           1       0.60      0.13      0.22      1920\n",
      "\n",
      "    accuracy                           0.76      7540\n",
      "   macro avg       0.68      0.55      0.54      7540\n",
      "weighted avg       0.72      0.76      0.69      7540\n",
      "\n",
      "\n",
      "Training pipeline with DecisionTree...\n",
      "[Pipeline] ........ (step 1 of 1) Processing classifier, total=  11.0s\n",
      "\n",
      "DecisionTree Model Evaluation:\n",
      "Accuracy: 0.7422\n",
      "              precision    recall  f1-score   support\n",
      "\n",
      "           0       0.83      0.82      0.83      5620\n",
      "           1       0.49      0.52      0.51      1920\n",
      "\n",
      "    accuracy                           0.74      7540\n",
      "   macro avg       0.66      0.67      0.67      7540\n",
      "weighted avg       0.75      0.74      0.74      7540\n",
      "\n"
     ]
    }
   ],
   "source": [
    "models = {\n",
    "    \"KNeighbors\": KNeighborsClassifier(n_neighbors=7), \n",
    "    \"DecisionTree\": DecisionTreeClassifier() \n",
    "}\n",
    "\n",
    "for model_name, model in models.items():\n",
    "        print(f\"\\nTraining pipeline with {model_name}...\")\n",
    "        pipeline = create_pipeline(model)\n",
    "        \n",
    "        pipeline.fit(X_train_scaled, y_train)\n",
    "        y_pred = pipeline.predict(X_test_scaled)\n",
    "        \n",
    "        # evaluate model performance\n",
    "        print(f\"\\n{model_name} Model Evaluation:\")\n",
    "        print(f\"Accuracy: {pipeline.score(X_test_scaled, y_test):.4f}\")\n",
    "        print(classification_report(y_test, y_pred))"
   ]
  },
  {
   "cell_type": "code",
   "execution_count": null,
   "metadata": {},
   "outputs": [],
   "source": []
  }
 ],
 "metadata": {
  "kernelspec": {
   "display_name": "Python 3",
   "language": "python",
   "name": "python3"
  },
  "language_info": {
   "codemirror_mode": {
    "name": "ipython",
    "version": 3
   },
   "file_extension": ".py",
   "mimetype": "text/x-python",
   "name": "python",
   "nbconvert_exporter": "python",
   "pygments_lexer": "ipython3",
   "version": "3.12.4"
  }
 },
 "nbformat": 4,
 "nbformat_minor": 2
}
